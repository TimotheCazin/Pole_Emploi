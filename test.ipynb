{
 "cells": [
  {
   "cell_type": "code",
   "execution_count": 1,
   "metadata": {},
   "outputs": [],
   "source": [
    "import requests"
   ]
  },
  {
   "cell_type": "code",
   "execution_count": 2,
   "metadata": {},
   "outputs": [
    {
     "name": "stdout",
     "output_type": "stream",
     "text": [
      "Access token claimed\n"
     ]
    }
   ],
   "source": [
    "url = \"https://entreprise.pole-emploi.fr/connexion/oauth2/access_token?realm=%2Fpartenaire\"\n",
    "\n",
    "client_id = \"PAR_projetdatacentralemar_3627c1021bcb3d57c22720ecf47d16084fe0179161a399fdee6cbca4a79ffa56\"\n",
    "client_secret = \"04239bc539bfe414825bc8519433e061350dd781ce20966f44660d9d4f0eafc2\"\n",
    "\n",
    "headers = {\n",
    "    \"Content-Type\": \"application/x-www-form-urlencoded\"\n",
    "}\n",
    "\n",
    "body = {\n",
    "    \"grant_type\": \"client_credentials\",\n",
    "    \"client_id\": client_id,\n",
    "    \"client_secret\": client_secret,\n",
    "    \"scope\": \"api_offresdemploiv2 o2dsoffre\"\n",
    "}\n",
    "\n",
    "response = requests.post(url, headers=headers, data=body)\n",
    "if response.status_code == 200:\n",
    "  print(\"Access token claimed\")\n",
    "  access_token = response.json()['access_token']\n",
    "\n",
    "else:\n",
    "  print(\"Error when claiming access token\")"
   ]
  },
  {
   "cell_type": "code",
   "execution_count": 3,
   "metadata": {},
   "outputs": [],
   "source": [
    "url = \"https://api.pole-emploi.io/partenaire/offresdemploi/v2/offres/170XLMD\"\n",
    "\n",
    "headers = {\n",
    "    \"Authorization\": f\"Bearer {access_token}\"\n",
    "}"
   ]
  },
  {
   "cell_type": "code",
   "execution_count": 13,
   "metadata": {},
   "outputs": [
    {
     "data": {
      "text/plain": [
       "\"Dans une clinique, au cœur d'un service de soins, vous serez le contact unique et privilégié pour : les patients, les équipes soignantes et les visiteurs. Vous garantirez la qualité de l'offre du service restauration. Vous démontrerez l'attention particulière du service hôtelier avec cette offre inédite et personnalisée.\\n\\nPour cela, vos missions seront : \\n- Accueil personnalisé et présentation du déroulé de l'offre de restauration \\n- Prise de commandes auprès des patients selon les spécificités de leur régime alimentaire et de leurs accompagnants. \\n- Développement des ventes additionnelles de repas gourmets et room-service. \\n- Service des repas et recueil des impressions du client - Petite préparation.\\n\\nUne intégration facilitée au sein des équipes sera mise en œuvre, et un programme de formation spécifique pour permettre l'accomplissement dans les missions.\\n\\nCDD dans le cadre d'un remplacement (évolution possible)\\nTravail 1 week-end sur 2\\nHoraires : 7h-15h15 ou 13h-21h \\n1 SEMAINE MATIN 1 SEMAINE SOIR\\nOrganisé(e), bon relationnel, travail d'équipe.\""
      ]
     },
     "execution_count": 13,
     "metadata": {},
     "output_type": "execute_result"
    }
   ],
   "source": [
    "requests.get(url,headers=headers).json()['description']"
   ]
  },
  {
   "cell_type": "code",
   "execution_count": 16,
   "metadata": {},
   "outputs": [
    {
     "name": "stdout",
     "output_type": "stream",
     "text": [
      "{'prediction': 2323.2763764769757}\n"
     ]
    }
   ],
   "source": [
    "url = 'http://127.0.0.1:5000/predict'\n",
    "data = {'url_or_id': '170XLMD'}\n",
    "response = requests.post(url, json=data)\n",
    "\n",
    "print(response.json())"
   ]
  }
 ],
 "metadata": {
  "kernelspec": {
   "display_name": "venv-poleemploi",
   "language": "python",
   "name": "python3"
  },
  "language_info": {
   "codemirror_mode": {
    "name": "ipython",
    "version": 3
   },
   "file_extension": ".py",
   "mimetype": "text/x-python",
   "name": "python",
   "nbconvert_exporter": "python",
   "pygments_lexer": "ipython3",
   "version": "3.10.4"
  }
 },
 "nbformat": 4,
 "nbformat_minor": 2
}
