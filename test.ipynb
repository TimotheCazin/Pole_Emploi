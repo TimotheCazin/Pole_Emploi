{
 "cells": [
  {
   "cell_type": "code",
   "execution_count": 1,
   "metadata": {},
   "outputs": [],
   "source": [
    "import requests"
   ]
  },
  {
   "cell_type": "code",
   "execution_count": 2,
   "metadata": {},
   "outputs": [
    {
     "name": "stdout",
     "output_type": "stream",
     "text": [
      "{'prediction': 2323.2763764769757}\n"
     ]
    }
   ],
   "source": [
    "url = \"http://127.0.0.1:5000/predict\"\n",
    "\n",
    "# Données à envoyer sous forme JSON\n",
    "data = {\"url_or_id\": \"170XLMD\"}\n",
    "\n",
    "response = requests.post(url, json=data)\n",
    "\n",
    "# Vérification du statut de la réponse\n",
    "if response.status_code == 200:\n",
    "    # Si la requête a réussi, afficher la prédiction\n",
    "    print(response.json())\n",
    "else:\n",
    "    # Si la requête a échoué, afficher le message d'erreur\n",
    "    print(\"Erreur lors de la requête :\", response.status_code)"
   ]
  }
 ],
 "metadata": {
  "kernelspec": {
   "display_name": "venv-poleemploi",
   "language": "python",
   "name": "python3"
  },
  "language_info": {
   "codemirror_mode": {
    "name": "ipython",
    "version": 3
   },
   "file_extension": ".py",
   "mimetype": "text/x-python",
   "name": "python",
   "nbconvert_exporter": "python",
   "pygments_lexer": "ipython3",
   "version": "3.10.4"
  }
 },
 "nbformat": 4,
 "nbformat_minor": 2
}
